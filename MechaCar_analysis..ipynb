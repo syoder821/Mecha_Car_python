{
 "cells": [
  {
   "cell_type": "code",
   "execution_count": 1,
   "metadata": {},
   "outputs": [
    {
     "name": "stderr",
     "output_type": "stream",
     "text": [
      "C:\\Users\\syode\\anaconda3\\envs\\mlenv\\lib\\site-packages\\numpy\\_distributor_init.py:32: UserWarning: loaded more than 1 DLL from .libs:\n",
      "C:\\Users\\syode\\anaconda3\\envs\\mlenv\\lib\\site-packages\\numpy\\.libs\\libopenblas.WCDJNK7YVMPZQ2ME2ZZHJJRJ3JIKNDB7.gfortran-win_amd64.dll\n",
      "C:\\Users\\syode\\anaconda3\\envs\\mlenv\\lib\\site-packages\\numpy\\.libs\\libopenblas.XWYDX2IKJW2NMTWSFYNGFUWKQU3LYTCZ.gfortran-win_amd64.dll\n",
      "  stacklevel=1)\n"
     ]
    }
   ],
   "source": [
    "%matplotlib inline\n",
    "import matplotlib.pyplot as plt\n",
    "import numpy as np\n",
    "import pandas as pd"
   ]
  },
  {
   "cell_type": "code",
   "execution_count": 2,
   "metadata": {},
   "outputs": [],
   "source": [
    "# Load mpg data \n",
    "mecha_mpg = pd.read_csv('Resources/MechaCar_mpg.csv')"
   ]
  },
  {
   "cell_type": "code",
   "execution_count": 3,
   "metadata": {},
   "outputs": [
    {
     "data": {
      "text/html": [
       "<div>\n",
       "<style scoped>\n",
       "    .dataframe tbody tr th:only-of-type {\n",
       "        vertical-align: middle;\n",
       "    }\n",
       "\n",
       "    .dataframe tbody tr th {\n",
       "        vertical-align: top;\n",
       "    }\n",
       "\n",
       "    .dataframe thead th {\n",
       "        text-align: right;\n",
       "    }\n",
       "</style>\n",
       "<table border=\"1\" class=\"dataframe\">\n",
       "  <thead>\n",
       "    <tr style=\"text-align: right;\">\n",
       "      <th></th>\n",
       "      <th>vehicle_length</th>\n",
       "      <th>vehicle_weight</th>\n",
       "      <th>spoiler_angle</th>\n",
       "      <th>ground_clearance</th>\n",
       "      <th>AWD</th>\n",
       "      <th>mpg</th>\n",
       "    </tr>\n",
       "  </thead>\n",
       "  <tbody>\n",
       "    <tr>\n",
       "      <th>0</th>\n",
       "      <td>14.697095</td>\n",
       "      <td>6407.946470</td>\n",
       "      <td>48.789983</td>\n",
       "      <td>14.640983</td>\n",
       "      <td>1</td>\n",
       "      <td>49.049180</td>\n",
       "    </tr>\n",
       "    <tr>\n",
       "      <th>1</th>\n",
       "      <td>12.534206</td>\n",
       "      <td>5182.080571</td>\n",
       "      <td>90.000000</td>\n",
       "      <td>14.366679</td>\n",
       "      <td>1</td>\n",
       "      <td>36.766063</td>\n",
       "    </tr>\n",
       "    <tr>\n",
       "      <th>2</th>\n",
       "      <td>20.000000</td>\n",
       "      <td>8337.981208</td>\n",
       "      <td>78.632323</td>\n",
       "      <td>12.253711</td>\n",
       "      <td>0</td>\n",
       "      <td>80.000000</td>\n",
       "    </tr>\n",
       "    <tr>\n",
       "      <th>3</th>\n",
       "      <td>13.428485</td>\n",
       "      <td>9419.670939</td>\n",
       "      <td>55.939032</td>\n",
       "      <td>12.989359</td>\n",
       "      <td>1</td>\n",
       "      <td>18.941489</td>\n",
       "    </tr>\n",
       "    <tr>\n",
       "      <th>4</th>\n",
       "      <td>15.449980</td>\n",
       "      <td>3772.666826</td>\n",
       "      <td>26.128164</td>\n",
       "      <td>15.103963</td>\n",
       "      <td>1</td>\n",
       "      <td>63.824568</td>\n",
       "    </tr>\n",
       "  </tbody>\n",
       "</table>\n",
       "</div>"
      ],
      "text/plain": [
       "   vehicle_length  vehicle_weight  spoiler_angle  ground_clearance  AWD  \\\n",
       "0       14.697095     6407.946470      48.789983         14.640983    1   \n",
       "1       12.534206     5182.080571      90.000000         14.366679    1   \n",
       "2       20.000000     8337.981208      78.632323         12.253711    0   \n",
       "3       13.428485     9419.670939      55.939032         12.989359    1   \n",
       "4       15.449980     3772.666826      26.128164         15.103963    1   \n",
       "\n",
       "         mpg  \n",
       "0  49.049180  \n",
       "1  36.766063  \n",
       "2  80.000000  \n",
       "3  18.941489  \n",
       "4  63.824568  "
      ]
     },
     "execution_count": 3,
     "metadata": {},
     "output_type": "execute_result"
    }
   ],
   "source": [
    "mecha_mpg.head()\n"
   ]
  },
  {
   "cell_type": "code",
   "execution_count": 11,
   "metadata": {},
   "outputs": [
    {
     "data": {
      "text/plain": [
       "<matplotlib.collections.PathCollection at 0x22560d22388>"
      ]
     },
     "execution_count": 11,
     "metadata": {},
     "output_type": "execute_result"
    },
    {
     "data": {
      "image/png": "[encoded data removed]",
      "text/plain": [
       "<Figure size 432x288 with 1 Axes>"
      ]
     },
     "metadata": {
      "needs_background": "light"
     },
     "output_type": "display_data"
    }
   ],
   "source": [
    "X = mecha_mpg['vehicle_length'].values.reshape(-1,1)\n",
    "y = mecha_mpg['mpg'].values.reshape(-1,1)\n",
    "plt.scatter(X, y)"
   ]
  },
  {
   "cell_type": "code",
   "execution_count": 12,
   "metadata": {},
   "outputs": [
    {
     "data": {
      "text/plain": [
       "LinearRegression()"
      ]
     },
     "execution_count": 12,
     "metadata": {},
     "output_type": "execute_result"
    }
   ],
   "source": [
    "# Create the model and fit the model to the data\n",
    "\n",
    "from sklearn.linear_model import LinearRegression\n",
    "model = LinearRegression()\n",
    "model.fit(X,y)"
   ]
  },
  {
   "cell_type": "code",
   "execution_count": 13,
   "metadata": {},
   "outputs": [
    {
     "name": "stdout",
     "output_type": "stream",
     "text": [
      "Weight coefficients:  [[4.6732768]]\n",
      "y-axis intercept:  [-25.0622116]\n"
     ]
    }
   ],
   "source": [
    "# Print the coefficient and the intercept for the model.\n",
    "\n",
    "print('Weight coefficients: ', model.coef_)\n",
    "print('y-axis intercept: ', model.intercept_)"
   ]
  },
  {
   "cell_type": "code",
   "execution_count": 15,
   "metadata": {},
   "outputs": [
    {
     "name": "stdout",
     "output_type": "stream",
     "text": [
      "coefficient of determination: 0.3714656798365583\n",
      "intercept: [-25.0622116]\n",
      "slope: [[4.6732768]]\n"
     ]
    },
    {
     "data": {
      "text/plain": [
       "[<matplotlib.lines.Line2D at 0x22560d7eb08>]"
      ]
     },
     "execution_count": 15,
     "metadata": {},
     "output_type": "execute_result"
    },
    {
     "data": {
      "image/png": "[encoded data removed]",
      "text/plain": [
       "<Figure size 432x288 with 1 Axes>"
      ]
     },
     "metadata": {
      "needs_background": "light"
     },
     "output_type": "display_data"
    }
   ],
   "source": [
    "# Obtain the coefficient of determination by calling the model with the score() function, then print the coefficient:\n",
    "r_sq = model.score(X, y)\n",
    "print('coefficient of determination:', r_sq)\n",
    "\n",
    "# Print the Intercept:\n",
    "print('intercept:', model.intercept_)\n",
    "\n",
    "# Print the Slope:\n",
    "print('slope:', model.coef_) \n",
    "\n",
    "# Predict a Response and plot:\n",
    "y_pred = model.predict(X)\n",
    "\n",
    "plt.scatter(X, y)\n",
    "plt.plot(X,y_pred)"
   ]
  },
  {
   "cell_type": "code",
   "execution_count": 17,
   "metadata": {},
   "outputs": [
    {
     "data": {
      "text/html": [
       "<div>\n",
       "<style scoped>\n",
       "    .dataframe tbody tr th:only-of-type {\n",
       "        vertical-align: middle;\n",
       "    }\n",
       "\n",
       "    .dataframe tbody tr th {\n",
       "        vertical-align: top;\n",
       "    }\n",
       "\n",
       "    .dataframe thead th {\n",
       "        text-align: right;\n",
       "    }\n",
       "</style>\n",
       "<table border=\"1\" class=\"dataframe\">\n",
       "  <thead>\n",
       "    <tr style=\"text-align: right;\">\n",
       "      <th></th>\n",
       "      <th>vehicle_length</th>\n",
       "      <th>vehicle_weight</th>\n",
       "      <th>spoiler_angle</th>\n",
       "      <th>ground_clearance</th>\n",
       "      <th>AWD</th>\n",
       "      <th>mpg</th>\n",
       "    </tr>\n",
       "  </thead>\n",
       "  <tbody>\n",
       "    <tr>\n",
       "      <th>0</th>\n",
       "      <td>14.697095</td>\n",
       "      <td>6407.946470</td>\n",
       "      <td>48.789983</td>\n",
       "      <td>14.640983</td>\n",
       "      <td>1</td>\n",
       "      <td>49.049180</td>\n",
       "    </tr>\n",
       "    <tr>\n",
       "      <th>1</th>\n",
       "      <td>12.534206</td>\n",
       "      <td>5182.080571</td>\n",
       "      <td>90.000000</td>\n",
       "      <td>14.366679</td>\n",
       "      <td>1</td>\n",
       "      <td>36.766063</td>\n",
       "    </tr>\n",
       "    <tr>\n",
       "      <th>2</th>\n",
       "      <td>20.000000</td>\n",
       "      <td>8337.981208</td>\n",
       "      <td>78.632323</td>\n",
       "      <td>12.253711</td>\n",
       "      <td>0</td>\n",
       "      <td>80.000000</td>\n",
       "    </tr>\n",
       "    <tr>\n",
       "      <th>3</th>\n",
       "      <td>13.428485</td>\n",
       "      <td>9419.670939</td>\n",
       "      <td>55.939032</td>\n",
       "      <td>12.989359</td>\n",
       "      <td>1</td>\n",
       "      <td>18.941489</td>\n",
       "    </tr>\n",
       "    <tr>\n",
       "      <th>4</th>\n",
       "      <td>15.449980</td>\n",
       "      <td>3772.666826</td>\n",
       "      <td>26.128164</td>\n",
       "      <td>15.103963</td>\n",
       "      <td>1</td>\n",
       "      <td>63.824568</td>\n",
       "    </tr>\n",
       "  </tbody>\n",
       "</table>\n",
       "</div>"
      ],
      "text/plain": [
       "   vehicle_length  vehicle_weight  spoiler_angle  ground_clearance  AWD  \\\n",
       "0       14.697095     6407.946470      48.789983         14.640983    1   \n",
       "1       12.534206     5182.080571      90.000000         14.366679    1   \n",
       "2       20.000000     8337.981208      78.632323         12.253711    0   \n",
       "3       13.428485     9419.670939      55.939032         12.989359    1   \n",
       "4       15.449980     3772.666826      26.128164         15.103963    1   \n",
       "\n",
       "         mpg  \n",
       "0  49.049180  \n",
       "1  36.766063  \n",
       "2  80.000000  \n",
       "3  18.941489  \n",
       "4  63.824568  "
      ]
     },
     "execution_count": 17,
     "metadata": {},
     "output_type": "execute_result"
    }
   ],
   "source": [
    "mecha_mpg.head()"
   ]
  },
  {
   "cell_type": "code",
   "execution_count": 22,
   "metadata": {},
   "outputs": [
    {
     "name": "stdout",
     "output_type": "stream",
     "text": [
      "Intercept: \n",
      " -103.96397929659197\n",
      "Coefficients: \n",
      " [ 6.26712776e+00  1.24507280e-03  6.87656141e-02  3.54553429e+00\n",
      " -3.41149904e+00]\n",
      "                            OLS Regression Results                            \n",
      "==============================================================================\n",
      "Dep. Variable:                    mpg   R-squared:                       0.715\n",
      "Model:                            OLS   Adj. R-squared:                  0.683\n",
      "Method:                 Least Squares   F-statistic:                     22.07\n",
      "Date:                Fri, 22 Apr 2022   Prob (F-statistic):           5.35e-11\n",
      "Time:                        11:11:05   Log-Likelihood:                -176.34\n",
      "No. Observations:                  50   AIC:                             364.7\n",
      "Df Residuals:                      44   BIC:                             376.2\n",
      "Df Model:                           5                                         \n",
      "Covariance Type:            nonrobust                                         \n",
      "====================================================================================\n",
      "                       coef    std err          t      P>|t|      [0.025      0.975]\n",
      "------------------------------------------------------------------------------------\n",
      "const             -103.9640     15.850     -6.559      0.000    -135.908     -72.020\n",
      "vehicle_length       6.2671      0.655      9.563      0.000       4.946       7.588\n",
      "vehicle_weight       0.0012      0.001      1.807      0.078      -0.000       0.003\n",
      "spoiler_angle        0.0688      0.067      1.034      0.307      -0.065       0.203\n",
      "ground_clearance     3.5455      0.541      6.551      0.000       2.455       4.636\n",
      "AWD                 -3.4115      2.535     -1.346      0.185      -8.520       1.697\n",
      "==============================================================================\n",
      "Omnibus:                        0.507   Durbin-Watson:                   2.288\n",
      "Prob(Omnibus):                  0.776   Jarque-Bera (JB):                0.331\n",
      "Skew:                          -0.197   Prob(JB):                        0.848\n",
      "Kurtosis:                       2.945   Cond. No.                     8.21e+04\n",
      "==============================================================================\n",
      "\n",
      "Notes:\n",
      "[1] Standard Errors assume that the covariance matrix of the errors is correctly specified.\n",
      "[2] The condition number is large, 8.21e+04. This might indicate that there are\n",
      "strong multicollinearity or other numerical problems.\n"
     ]
    },
    {
     "name": "stderr",
     "output_type": "stream",
     "text": [
      "C:\\Users\\syode\\anaconda3\\envs\\mlenv\\lib\\site-packages\\statsmodels\\tsa\\tsatools.py:142: FutureWarning: In a future version of pandas all arguments of concat except for the argument 'objs' will be keyword-only\n",
      "  x = pd.concat(x[::order], 1)\n"
     ]
    }
   ],
   "source": [
    "import pandas as pd\n",
    "from sklearn import linear_model\n",
    "import statsmodels.api as sm\n",
    "df = mecha_mpg\n",
    "\n",
    "X = df[['vehicle_length','vehicle_weight','spoiler_angle', 'ground_clearance', 'AWD']] # here we have 2 variables for multiple regression. If you just want to use one variable for simple linear regression, then use X = df['Interest_Rate'] for example.Alternatively, you may add additional variables within the brackets\n",
    "Y = df['mpg']\n",
    " \n",
    "# with sklearn\n",
    "regr = linear_model.LinearRegression()\n",
    "regr.fit(X, Y)\n",
    "\n",
    "print('Intercept: \\n', regr.intercept_)\n",
    "print('Coefficients: \\n', regr.coef_)\n",
    "\n",
    "# # prediction with sklearn\n",
    "# New_Interest_Rate = 2.75\n",
    "# New_Unemployment_Rate = 5.3\n",
    "# print ('Predicted Stock Index Price: \\n', regr.predict([[New_Interest_Rate ,New_Unemployment_Rate]]))\n",
    "\n",
    "# with statsmodels\n",
    "X = sm.add_constant(X) # adding a constant\n",
    " \n",
    "model = sm.OLS(Y, X).fit()\n",
    "predictions = model.predict(X) \n",
    " \n",
    "print_model = model.summary()\n",
    "print(print_model)"
   ]
  }
 ],
 "metadata": {
  "interpreter": {
   "hash": "ab315c993c9ef262b9a58319d7b32fd1261371ea3469adebec2e3c23752144c9"
  },
  "kernelspec": {
   "display_name": "Python 3.7.11 ('mlenv')",
   "language": "python",
   "name": "python3"
  },
  "language_info": {
   "codemirror_mode": {
    "name": "ipython",
    "version": 3
   },
   "file_extension": ".py",
   "mimetype": "text/x-python",
   "name": "python",
   "nbconvert_exporter": "python",
   "pygments_lexer": "ipython3",
   "version": "3.7.11"
  },
  "orig_nbformat": 4
 },
 "nbformat": 4,
 "nbformat_minor": 2
}
